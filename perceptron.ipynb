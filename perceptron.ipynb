{
 "cells": [
  {
   "attachments": {},
   "cell_type": "markdown",
   "metadata": {},
   "source": [
    "# 퍼셉트론\n",
    "---\n",
    "- 다수의 입력을 받아서 하나의 신호를 출력하는 것\n",
    "- Y = 0(threshold 보다 작으면) or 1(threshold 보다 크면)\n",
    "- AND/NAND/OR gate 가 가장 대표적인 perceptron임\n",
    "\n"
   ]
  },
  {
   "cell_type": "code",
   "execution_count": 1,
   "metadata": {},
   "outputs": [
    {
     "name": "stdout",
     "output_type": "stream",
     "text": [
      "0\n",
      "0\n",
      "0\n",
      "1\n"
     ]
    }
   ],
   "source": [
    "# and gate 구현\n",
    "def AND(x1,x2):\n",
    "    w1,w2,theta = 0.5,0.5,0.7\n",
    "    tmp  = x1*w1 + x2*w2\n",
    "    if tmp<= theta:\n",
    "        return 0\n",
    "    elif tmp > theta:\n",
    "        return 1\n",
    "\n",
    "print(AND(0,0))\n",
    "print(AND(0,1))\n",
    "print(AND(1,0))\n",
    "print(AND(1,1))"
   ]
  },
  {
   "cell_type": "code",
   "execution_count": 3,
   "metadata": {},
   "outputs": [
    {
     "name": "stdout",
     "output_type": "stream",
     "text": [
      "[0.  0.5]\n",
      "0.5\n",
      "-0.19999999999999996\n"
     ]
    }
   ],
   "source": [
    "#위의 식에서 theta를 반대쪽으로 넘기면 theta를 포함한 식이 0보다 크거나 작거나의 형태가 된다. \n",
    "import numpy as np\n",
    "x = np.array([0,1])\n",
    "w = np.array([0.5,0.5])\n",
    "b = -0.7\n",
    "#가중치를 곱한 값\n",
    "print(w*x)\n",
    "print(np.sum(w*x))\n",
    "print(np.sum(w*x) + b) "
   ]
  },
  {
   "cell_type": "code",
   "execution_count": 9,
   "metadata": {},
   "outputs": [
    {
     "name": "stdout",
     "output_type": "stream",
     "text": [
      "AND(0,0) :0 AND(0,1) :0 AND(1,0) :0 AND(1,1) :1 \n",
      "NAND(0,0) :1 NAND(0,1) :1 NAND(1,0) :1 NAND(1,1) :0 \n",
      "OR(0,0) :0 OR(0,1) :1 OR(1,0) :1 OR(1,1) :1 \n"
     ]
    }
   ],
   "source": [
    "def AND_new(x1,x2):\n",
    "    x = np.array([x1,x2])\n",
    "    w = np.array([0.5,0.5])\n",
    "    b = -0.7\n",
    "    tmp = np.sum(w*x) + b\n",
    "    if tmp <= 0:\n",
    "        return 0\n",
    "    else:\n",
    "        return 1\n",
    "\n",
    "def NAND(x1,x2):\n",
    "    x = np.array([x1,x2])\n",
    "    w = np.array([-0.5,-0.5])\n",
    "    b = 0.7\n",
    "    tmp = np.sum(w*x) + b\n",
    "    if tmp <= 0:\n",
    "        return 0\n",
    "    else:\n",
    "        return 1\n",
    "    \n",
    "def OR(x1,x2):\n",
    "    x = np.array([x1,x2])\n",
    "    w = np.array([0.5,0.5])\n",
    "    b = -0.2\n",
    "    tmp = np.sum(w*x) + b\n",
    "    if tmp <= 0:\n",
    "        return 0\n",
    "    else:\n",
    "        return 1\n",
    "    \n",
    "print('AND(0,0) :{} AND(0,1) :{} AND(1,0) :{} AND(1,1) :{} '.format(AND_new(0,0), AND_new(0,1), AND_new(1,0), AND_new(1,1)))\n",
    "print('NAND(0,0) :{} NAND(0,1) :{} NAND(1,0) :{} NAND(1,1) :{} '.format(NAND(0,0), NAND(0,1), NAND(1,0), NAND(1,1)))\n",
    "print('OR(0,0) :{} OR(0,1) :{} OR(1,0) :{} OR(1,1) :{} '.format(OR(0,0), OR(0,1), OR(1,0), OR(1,1)))"
   ]
  },
  {
   "attachments": {},
   "cell_type": "markdown",
   "metadata": {},
   "source": [
    "## XOR gate\n",
    "---\n",
    "- 진리표가 0,1,1,0 으로 형성되기 때문에 선형적인 퍼셉트론으로는 구현할 수 없다. \n",
    "- 직선이 아닌 곡선, 즉 비선형이라면 구분할 수 있다. \n",
    "- 또는 다층 퍼셉트론을 만들어서 사용하면 해결할 수 있다. \n",
    "- XOR gate는 NAND gate와 OR gate를 AND gate로 합치면 구현이 가능하다. "
   ]
  },
  {
   "cell_type": "code",
   "execution_count": 11,
   "metadata": {},
   "outputs": [
    {
     "name": "stdout",
     "output_type": "stream",
     "text": [
      "0\n",
      "1\n",
      "1\n",
      "0\n"
     ]
    }
   ],
   "source": [
    "def XOR(x1, x2):\n",
    "    s1 = NAND(x1, x2)\n",
    "    s2 = OR(x1, x2)\n",
    "    y = AND_new(s1, s2)\n",
    "    return y\n",
    "\n",
    "print(XOR(0,0))\n",
    "print(XOR(0,1))\n",
    "print(XOR(1,0))\n",
    "print(XOR(1,1))"
   ]
  },
  {
   "cell_type": "code",
   "execution_count": null,
   "metadata": {},
   "outputs": [],
   "source": []
  }
 ],
 "metadata": {
  "kernelspec": {
   "display_name": "base",
   "language": "python",
   "name": "python3"
  },
  "language_info": {
   "codemirror_mode": {
    "name": "ipython",
    "version": 3
   },
   "file_extension": ".py",
   "mimetype": "text/x-python",
   "name": "python",
   "nbconvert_exporter": "python",
   "pygments_lexer": "ipython3",
   "version": "3.9.7 (default, Sep 16 2021, 08:50:36) \n[Clang 10.0.0 ]"
  },
  "orig_nbformat": 4,
  "vscode": {
   "interpreter": {
    "hash": "f4e3c63a28d2eadc36e3bba0725a6dea388233dd4d06cf5319c6ed40df7370ac"
   }
  }
 },
 "nbformat": 4,
 "nbformat_minor": 2
}
