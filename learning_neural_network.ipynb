{
 "cells": [
  {
   "attachments": {},
   "cell_type": "markdown",
   "metadata": {},
   "source": [
    "## 데이터 주도 학습\n",
    "- 학습의 방법들\n",
    "    - 사람이 생각한 알고리즘\n",
    "    - 사람이 생각한 특징 -> 기계학습\n",
    "    - 신경망(딥러닝)\n",
    "        - 위의 두개는 사람의 개입이 있지만 딥러닝은 중요한 특징까지 기계가 스스로 학습\n",
    "        - 종단간 기계학습(end-to-end machine learning)이라고도 함\n",
    "- 학습 시 주의할 점\n",
    "    - overfitting\n",
    "\n",
    "## 손실 함수\n",
    "- 신경망 학습은 특정 지표를 가장 좋게 만들어주는 가중치 매개변수의 값을 탐색하는 것\n",
    "    - 얼마나 잘 학습 됐는지를 보여주는 지표가 손실함수\n",
    "    - 손실 함수는 신경망 성능의 '나쁨'을 나타내는 지표\n",
    "        - 즉 클수록 나쁜 것을 의미함   \n",
    "    - 주로 사용되는 손실 함수는 오차제곱합(sum of squares for error, SSE), 교차 엔트로피 오차(cross entropy error, CEE)\n",
    "    "
   ]
  },
  {
   "cell_type": "code",
   "execution_count": 1,
   "metadata": {},
   "outputs": [
    {
     "name": "stdout",
     "output_type": "stream",
     "text": [
      "0.09750000000000003\n",
      "0.5975\n"
     ]
    }
   ],
   "source": [
    "import numpy as np\n",
    "import pandas as pd\n",
    "\n",
    "#오차제곱합 구현\n",
    "#MNIST 데이터 셋이라고 가정하고 실습 함\n",
    "#아래는 0~9까지의 숫자일 확률을 softmax함수로 출력했다고 생각함\n",
    "y1 = [0.1,0.05,0.6,0,0.05,0.1,0,0.1,0,0]\n",
    "y2 = [0.1,0.05,0.1,0,0.05,0.1,0,0.6,0,0]\n",
    "t = [0,0,1,0,0,0,0,0,0,0]\n",
    "\n",
    "def sum_squares_error(y, t):\n",
    "    return 0.5 * np.sum((y-t)**2)\n",
    "\n",
    "print(sum_squares_error(np.array(y1), np.array(t)))\n",
    "print(sum_squares_error(np.array(y2), np.array(t)))"
   ]
  },
  {
   "cell_type": "code",
   "execution_count": 2,
   "metadata": {},
   "outputs": [
    {
     "name": "stdout",
     "output_type": "stream",
     "text": [
      "0.510825457099338\n",
      "2.302584092994546\n"
     ]
    }
   ],
   "source": [
    "#교차 엔트로피 오차\n",
    "#이 값은 정답일 때의 출력이 전체 값을 정하게 됨\n",
    "#오차제곱합은 모든 출력이 값을 결정하는데 이와는 다름\n",
    "\n",
    "def cross_entropy_error(y,t):\n",
    "    #0이 입력됐을 때 -inf로 만들지 않기 위한 조금의 보정\n",
    "    delta = 1e-7\n",
    "    return -np.sum(t * np.log(y+delta))\n",
    "\n",
    "y1 = [0.1,0.05,0.6,0,0.05,0.1,0,0.1,0,0]\n",
    "y2 = [0.1,0.05,0.1,0,0.05,0.1,0,0.6,0,0]\n",
    "t = [0,0,1,0,0,0,0,0,0,0]\n",
    "\n",
    "print(cross_entropy_error(np.array(y1), np.array(t)))\n",
    "print(cross_entropy_error(np.array(y2), np.array(t)))"
   ]
  },
  {
   "cell_type": "code",
   "execution_count": 3,
   "metadata": {},
   "outputs": [
    {
     "name": "stdout",
     "output_type": "stream",
     "text": [
      "(60000, 784)\n",
      "(60000, 10)\n",
      "(10000, 784)\n",
      "(10000, 10)\n"
     ]
    }
   ],
   "source": [
    "import sys, os\n",
    "sys.path.append(os.pardir)\n",
    "from dataset.mnist import load_mnist\n",
    "\n",
    "(x_train, t_train), (x_test, t_test) = load_mnist(normalize=True, one_hot_label=True)\n",
    "\n",
    "print(x_train.shape)\n",
    "print(t_train.shape)\n",
    "print(x_test.shape)\n",
    "print(t_test.shape)"
   ]
  },
  {
   "cell_type": "code",
   "execution_count": 4,
   "metadata": {},
   "outputs": [
    {
     "name": "stdout",
     "output_type": "stream",
     "text": [
      "0.510825457099338\n",
      "2.302584092994546\n"
     ]
    }
   ],
   "source": [
    "#모든 데이터를 다 평가하면 너무 크기 때문에 10개의 값만 배치로 가져옴\n",
    "train_size = x_train.shape[0]\n",
    "batch_size = 10\n",
    "batch_mask = np.random.choice(train_size, batch_size)\n",
    "x_batch = x_train[batch_mask]\n",
    "t_batch = t_train[batch_mask]\n",
    "\n",
    "def cross_entropy_error(y,t):\n",
    "    if y.ndim == 1:\n",
    "        t = t.reshape(1, t.size)\n",
    "        y = y.reshape(1, y.size)\n",
    "    batch_size = y.shape[0]\n",
    "    return -np.sum(t* np.log( y+ 1e-7 )) / batch_size\n",
    "\n",
    "print(cross_entropy_error(np.array(y1), np.array(t)))\n",
    "print(cross_entropy_error(np.array(y2), np.array(t)))"
   ]
  },
  {
   "attachments": {},
   "cell_type": "markdown",
   "metadata": {},
   "source": [
    "## 손실 함수를 사용하는 이유\n",
    "- 어짜피 정확도를 구하는데 왜 손실 함수의 값이라는 우회적인 방법을 택하는가?\n",
    "    - 신경망 학습에서는 최적의 매개변수를 탐색할 때 손실 함수의 값을 가능한 한 작게 하는 매개변수 값을 찾음\n",
    "    - 가중치 매개변수의 값을 아주 조금 변화시킬 때 손실 함수가 어떻게 변하는지를 가지고 배개변수 값을 변화시킴\n",
    "    - 정확도를 지표로 삼으면 미분값이 대부분의 장소에서 0이 되기 때문에 손실 함수를 사용함\n",
    "        - 정확도를 지표로 삼으면 불연속 적으로 30 % -> 32% -> 38% 처럼 불연속 적으로 나타남\n",
    "        - 계단 함수를 생각해보면 됨"
   ]
  },
  {
   "cell_type": "code",
   "execution_count": 5,
   "metadata": {},
   "outputs": [
    {
     "name": "stdout",
     "output_type": "stream",
     "text": [
      "0.1999999999990898\n"
     ]
    },
    {
     "data": {
      "image/png": "[encoded data removed]",
      "text/plain": [
       "<Figure size 432x288 with 1 Axes>"
      ]
     },
     "metadata": {
      "needs_background": "light"
     },
     "output_type": "display_data"
    }
   ],
   "source": [
    "'''미분 구현\n",
    "미분의 정의에 따라서 구현 했지만 아래의 함수는 개선점이 2가지 있음\n",
    "1. 엄청 작은 값을 사용하고 싶어서 1e-50을 사용했지만 이는 반올림 오차 문제, 즉 올바로 표현할 수 없음 -> 1e-4 정도로 바꾸어야함\n",
    "2. f의 차분과 관련된 것인데, 진정한 미분은 h를 무한히 0으로 좁히는 것인데 여기서 구현할 수 없기에 중심 차분 혹은 중앙차분으로 재구현 해야함\n",
    "    우리가 기존에 보던 미분은 엄밀한 '해석적 미분' 이고 여기서 사용하는 미분은 '수치 미분'으로 근사치를 이용해서 미분값을 구하는 방식을 의미함\n",
    "'''\n",
    "import numpy as np\n",
    "import pandas as pd\n",
    "import matplotlib.pylab as plt\n",
    "%matplotlib inline\n",
    "\n",
    "\n",
    "def numerical_diff(f,x):\n",
    "    h = 1e-50\n",
    "    return ((f(x+h) - f(x)))/h\n",
    "\n",
    "def numerical_diff_new(f,x):\n",
    "    h = 1e-4\n",
    "    return (f(x+h) - f(x-h))/(2*h)\n",
    "\n",
    "def func1(x):\n",
    "    return 0.01*x**2 + 0.1*x\n",
    "\n",
    "# y-f(a) = f'(a)(x-a)\n",
    "def tangent_line(f, x):\n",
    "    d = numerical_diff_new(f, x)\n",
    "    print(d)\n",
    "    y = f(x) - d*x\n",
    "    return lambda t: d*t + y\n",
    "\n",
    "x = np.arange(0.0, 20.0, 0.1)\n",
    "y = func1(x)\n",
    "plt.xlabel(\"x\")\n",
    "plt.ylabel(\"f(x)\")\n",
    "\n",
    "tf = tangent_line(func1, 5)\n",
    "y2 = tf(x)\n",
    "\n",
    "plt.plot(x, y)\n",
    "plt.plot(x, y2)\n",
    "plt.show()\n"
   ]
  },
  {
   "cell_type": "code",
   "execution_count": 8,
   "metadata": {},
   "outputs": [
    {
     "name": "stdout",
     "output_type": "stream",
     "text": [
      "6.000000000012662\n",
      "7.999999999999119\n"
     ]
    }
   ],
   "source": [
    "'''\n",
    "편미분 구현\n",
    "'''\n",
    "\n",
    "def func2(x):\n",
    "    return x[0]**2 + x[1]**2\n",
    "    #또는 return np.sum(x**2)\n",
    "\n",
    "#x0 = 3, x1 = 4일 떄 x0에 대한 편미분 값은?\n",
    "def function_tmp1(x0):\n",
    "    return x0*x0 + 4.0+2.0\n",
    "\n",
    "print(numerical_diff_new(function_tmp1, 3.00))\n",
    "\n",
    "#x0=3, x1 = 4일 때, x1에 대한 편미분 값은?\n",
    "def function_tmp2(x1):\n",
    "    return 3*2 + x1*x1\n",
    "\n",
    "print(numerical_diff_new(function_tmp2, 4.0))"
   ]
  },
  {
   "cell_type": "code",
   "execution_count": 26,
   "metadata": {},
   "outputs": [
    {
     "data": {
      "text/plain": [
       "array([6., 8.])"
      ]
     },
     "execution_count": 26,
     "metadata": {},
     "output_type": "execute_result"
    }
   ],
   "source": [
    "'''\n",
    "위에서는 각각의 편미분 값을 구했지만 여기서는 한번에 구할 수 있는 방법을 구현해본다. \n",
    "만약 입력을 정수형으로 주면 1e-4의 값이 무시 되어서 무조건 실수형으로 인풋을 주어야 한다. \n",
    "'''\n",
    "\n",
    "def numerical_gradient(f, x):\n",
    "    h = 1e-4\n",
    "    grad = np.zeros_like(x)\n",
    "    \n",
    "    for i in range(x.size):\n",
    "        tmp_val = x[i]\n",
    "        x[i] = tmp_val + h\n",
    "        fxh1 = f(x)\n",
    "        \n",
    "        x[i] = tmp_val-h\n",
    "        fxh2 = f(x)\n",
    "        \n",
    "        grad[i] = (fxh1 - fxh2)/(2*h)\n",
    "        \n",
    "        x[i] = tmp_val\n",
    "        \n",
    "    return grad\n",
    "\n",
    "numerical_gradient(func2, np.array([3.0,4.0]))"
   ]
  },
  {
   "cell_type": "code",
   "execution_count": 36,
   "metadata": {},
   "outputs": [
    {
     "name": "stdout",
     "output_type": "stream",
     "text": [
      "[5.47262693e-21 5.47262693e-21]\n",
      "[4.99999996 4.99999996]\n",
      "[-1.80220317e+12 -1.80220317e+12]\n",
      "[-1.5650224e+12 -1.5650224e+12]\n"
     ]
    }
   ],
   "source": [
    "def gradient_descent(f, init_x, lr = 0.01, step_num =100):\n",
    "    x = init_x\n",
    "    \n",
    "    for i in range(step_num):\n",
    "        grad =  numerical_gradient(f,x)\n",
    "        x -= lr * grad\n",
    "    return x\n",
    "\n",
    "def function_2(x):\n",
    "    return x[0] ** 2 + x[1] ** 2\n",
    "\n",
    "\n",
    "# 아래의 결과를 통해서 학습률을 너무 크지도 너무 적지도 않게 정해야하는 이유를 알 수 있다. \n",
    "init_x = np.array([5.,5.])\n",
    "print(gradient_descent(function_2, init_x,0.1, 1000))\n",
    "init_x = np.array([5.,5.])\n",
    "print(gradient_descent(function_2, init_x,1, 1000))\n",
    "init_x = np.array([5.,5.])\n",
    "print(gradient_descent(function_2, init_x,10, 1000))\n",
    "init_x = np.array([5.,5.])\n",
    "print(gradient_descent(function_2, init_x,100, 1000))"
   ]
  },
  {
   "cell_type": "code",
   "execution_count": null,
   "metadata": {},
   "outputs": [],
   "source": [
    "'''\n",
    "학습 알고리즘 구현하기\n",
    "- 신경망 학습의 절차\n",
    "    1. 미니배치\n",
    "        - 훈련 데이터 중 일부를 무작위로 가져와서 그 미니 배치의 손실함수 값을 줄이기\n",
    "    2. 기울기 산출\n",
    "        - 미니배치의 손실 함수 값을 줄이기 위해서 각 가중치 매개변수의 기울기를 구함\n",
    "    3. 매개변수 갱신\n",
    "        - 가중치 매개변수를 기울기 방향으로 아주 조금 갱신\n",
    "    4. 반복\n",
    "'''\n",
    "\n",
    "class TwoLayerNet:\n",
    "    def __init__(self, input_size, hidden_size, output_size, weight_init_std = 0.01):\n",
    "        self.params = {}\n",
    "        self.params['W1'] = weight_init_std / np.random.randn(input_size, hidden_size)\n",
    "        self.params['b1'] = np.zeros(hidden_size)\n",
    "        self.params['W2'] = weight_init_std / np.random.randn(hidden_size, output_size)\n",
    "        self.params['b2'] = np.zeros(output_size)\n",
    "    \n",
    "    def sigmoid(self, x):\n",
    "        return 1/ (1+np.exp(-x))\n",
    "    \n",
    "    def softmax(self, x):\n",
    "        c = np.max(x)\n",
    "        exp_a = np.exp(x-c)\n",
    "        sum_exp_a = np.sumn(exp_a)\n",
    "        y = exp_a/sum_exp_a\n",
    "        return y\n",
    "\n",
    "    def predict(self, x):\n",
    "        W1, W2 = self.params['W1'], self.params['W2']\n",
    "        b1, b2 = self.params['b1'], self.params['b2']\n",
    "        \n",
    "        a1 = np.dot(x, W1) + b1\n",
    "        z1 = self.sigmoid(a1)\n",
    "        a2 = np.dot(z1, W2) + b2\n",
    "        y = self.softmax(a2)\n",
    "        \n",
    "    def loss(self, x, t):\n",
    "        y = self.predict(x)\n",
    "        return cross_entropy_error(y, t)\n",
    "    \n",
    "    def accuracy(self, x, t):\n",
    "        y = self.predict(x)\n",
    "        y = np.argmax(y, aixs = 1)\n",
    "        t = np.argmax(t, aixs = 1)\n",
    "        \n",
    "        accuracy = np.sum(y == t)/float(x.shape[0])\n",
    "        return accuracy\n",
    "    \n",
    "    def numerical_gradient(self, x, t):\n",
    "        loss_W = lambda W : self.loss(x, t) \n",
    "        \n",
    "        grads = {}\n",
    "        grads['W1'] = numerical_gradient(loss_W, self.params['W1'])\n",
    "        grads['W2'] = numerical_gradient(loss_W, self.params['W2'])\n",
    "        grads['b1'] = numerical_gradient(loss_W, self.params['b1'])\n",
    "        grads['b2'] = numerical_gradient(loss_W, self.params['b2'])\n",
    "        \n",
    "        return grads\n",
    "        "
   ]
  }
 ],
 "metadata": {
  "kernelspec": {
   "display_name": "base",
   "language": "python",
   "name": "python3"
  },
  "language_info": {
   "codemirror_mode": {
    "name": "ipython",
    "version": 3
   },
   "file_extension": ".py",
   "mimetype": "text/x-python",
   "name": "python",
   "nbconvert_exporter": "python",
   "pygments_lexer": "ipython3",
   "version": "3.9.7"
  },
  "orig_nbformat": 4,
  "vscode": {
   "interpreter": {
    "hash": "f4e3c63a28d2eadc36e3bba0725a6dea388233dd4d06cf5319c6ed40df7370ac"
   }
  }
 },
 "nbformat": 4,
 "nbformat_minor": 2
}
